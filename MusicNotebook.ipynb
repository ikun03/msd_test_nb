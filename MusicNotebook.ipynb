{
 "cells": [
  {
   "cell_type": "code",
   "execution_count": 62,
   "metadata": {
    "collapsed": false
   },
   "outputs": [],
   "source": [
    "f=open('kaggle_visible_evaluation_triplets.txt','r')\n",
    "song_to_count=dict()\n",
    "for line in f:\n",
    "    _,song,_=line.strip().split('\\t')\n",
    "    if song in song_to_count:\n",
    "        song_to_count[song]+=1\n",
    "    else:\n",
    "        song_to_count[song]=1\n",
    "f.close()"
   ]
  },
  {
   "cell_type": "code",
   "execution_count": 63,
   "metadata": {
    "collapsed": false
   },
   "outputs": [
    {
     "data": {
      "text/plain": [
       "13"
      ]
     },
     "execution_count": 63,
     "metadata": {},
     "output_type": "execute_result"
    }
   ],
   "source": [
    "song_to_count['SONZTNP12A8C1321DF']"
   ]
  },
  {
   "cell_type": "code",
   "execution_count": 64,
   "metadata": {
    "collapsed": true
   },
   "outputs": [],
   "source": [
    "songs_ordered=sorted(song_to_count.keys(),key= lambda s:song_to_count[s],reverse=True)"
   ]
  },
  {
   "cell_type": "code",
   "execution_count": null,
   "metadata": {
    "collapsed": true
   },
   "outputs": [],
   "source": []
  },
  {
   "cell_type": "code",
   "execution_count": 65,
   "metadata": {
    "collapsed": false
   },
   "outputs": [],
   "source": [
    "f=open('kaggle_visible_evaluation_triplets.txt','r')\n",
    "user_to_songs=dict()\n",
    "for line in f:\n",
    "    user,song,_=line.strip().split('\\t')\n",
    "    if user in user_to_songs:\n",
    "        user_to_songs[user].add(song)\n",
    "    else:\n",
    "        user_to_songs[user]=set([song])\n",
    "f.close()"
   ]
  },
  {
   "cell_type": "code",
   "execution_count": 66,
   "metadata": {
    "collapsed": false
   },
   "outputs": [
    {
     "data": {
      "text/plain": [
       "{'SOACRJG12A8C137A8D',\n",
       " 'SOATCSU12A8C13393A',\n",
       " 'SODSKZZ12AB0188524',\n",
       " 'SOEFCDJ12AB0185FA0',\n",
       " 'SOHEKND12A8AE481D0',\n",
       " 'SOIPJAX12A8C141A2D',\n",
       " 'SOMLKZO12AB017F4AE',\n",
       " 'SONJVYU12A8AE44F9E',\n",
       " 'SONZTNP12A8C1321DF',\n",
       " 'SOPFVWP12A6D4FC636',\n",
       " 'SOPSVVG12A8C13B444',\n",
       " 'SOSOUKN12A8C13AB79',\n",
       " 'SOUQERE12A58A75633',\n",
       " 'SOUVUHC12A67020E3B',\n",
       " 'SOVVLKF12A8C1424F0',\n",
       " 'SOZPZGN12A8C135B45'}"
      ]
     },
     "execution_count": 66,
     "metadata": {},
     "output_type": "execute_result"
    }
   ],
   "source": [
    "user_to_songs['d7083f5e1d50c264277d624340edaaf3dc16095b']"
   ]
  },
  {
   "cell_type": "code",
   "execution_count": null,
   "metadata": {
    "collapsed": false
   },
   "outputs": [],
   "source": []
  },
  {
   "cell_type": "code",
   "execution_count": 67,
   "metadata": {
    "collapsed": false
   },
   "outputs": [],
   "source": [
    "f=open('kaggle_users.txt','r')\n",
    "canonical_users=map(lambda line: line.strip(),f.readlines())\n",
    "f.close()"
   ]
  },
  {
   "cell_type": "code",
   "execution_count": null,
   "metadata": {
    "collapsed": false
   },
   "outputs": [],
   "source": []
  },
  {
   "cell_type": "code",
   "execution_count": 68,
   "metadata": {
    "collapsed": false
   },
   "outputs": [],
   "source": [
    "f=open('kaggle_songs.txt','r')\n",
    "song_to_index=dict(map(lambda line: line.strip().split(' '),f.readlines()))"
   ]
  },
  {
   "cell_type": "code",
   "execution_count": 69,
   "metadata": {
    "collapsed": false
   },
   "outputs": [
    {
     "data": {
      "text/plain": [
       "'283892'"
      ]
     },
     "execution_count": 69,
     "metadata": {},
     "output_type": "execute_result"
    }
   ],
   "source": [
    "song_to_index['SOSOUKN12A8C13AB79']"
   ]
  },
  {
   "cell_type": "code",
   "execution_count": null,
   "metadata": {
    "collapsed": true
   },
   "outputs": [],
   "source": []
  },
  {
   "cell_type": "code",
   "execution_count": null,
   "metadata": {
    "collapsed": false
   },
   "outputs": [],
   "source": []
  },
  {
   "cell_type": "code",
   "execution_count": 72,
   "metadata": {
    "collapsed": true
   },
   "outputs": [],
   "source": [
    "f=open('submission.txt','w')\n",
    "for user in canonical_users:\n",
    "    songs_to_recommend=[]\n",
    "    for song in songs_ordered: \n",
    "        if len(songs_to_recommend)>=500:\n",
    "            break\n",
    "        if not song in user_to_songs[user]:\n",
    "            songs_to_recommend.append(song)\n",
    "    indices=map(lambda s: song_to_index[s],songs_to_recommend)\n",
    "    f.write(' '.join(indices)+'\\n')\n",
    "f.close()"
   ]
  },
  {
   "cell_type": "code",
   "execution_count": null,
   "metadata": {
    "collapsed": false
   },
   "outputs": [],
   "source": []
  },
  {
   "cell_type": "code",
   "execution_count": null,
   "metadata": {
    "collapsed": true
   },
   "outputs": [],
   "source": []
  },
  {
   "cell_type": "code",
   "execution_count": null,
   "metadata": {
    "collapsed": true
   },
   "outputs": [],
   "source": []
  }
 ],
 "metadata": {
  "anaconda-cloud": {},
  "kernelspec": {
   "display_name": "Python [conda root]",
   "language": "python",
   "name": "conda-root-py"
  },
  "language_info": {
   "codemirror_mode": {
    "name": "ipython",
    "version": 3
   },
   "file_extension": ".py",
   "mimetype": "text/x-python",
   "name": "python",
   "nbconvert_exporter": "python",
   "pygments_lexer": "ipython3",
   "version": "3.5.2"
  }
 },
 "nbformat": 4,
 "nbformat_minor": 1
}
